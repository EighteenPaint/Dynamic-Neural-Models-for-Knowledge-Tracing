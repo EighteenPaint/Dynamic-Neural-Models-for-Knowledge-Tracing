{
 "cells": [
  {
   "cell_type": "code",
   "execution_count": null,
   "metadata": {},
   "outputs": [],
   "source": [
    "import numpy as np\n",
    "from os import path\n",
    "import os\n",
    "from scipy import stats\n",
    "from scipy.stats import f_oneway\n",
    "\n",
    "\n",
    "\n",
    "rootdir = \"\\Jupyter_notebook\\Marina\\Datasets\"\n",
    "print(\"current dir : {}\".format(os.getcwd()))\n",
    "print(\"rootdir : {}\".format(rootdir) )\n",
    "\n",
    "DATASET = ['fsaif1tof3','assist2009_updated','assist2009_corrected','assistment2017','assistment2012_13']\n",
    "\n",
    "for d in DATASET:\n",
    "    filename_bin = path.join(rootdir,d,\"Tdnn_binary_predictions.csv\")\n",
    "    bin_tdnn_preds = np.genfromtxt(filename_bin,delimiter=\",\")\n",
    "    filename_bin = path.join(rootdir,d,\"BiGru_binary_predictions.csv\")\n",
    "    bin_bigru_preds = np.genfromtxt(filename_bin,delimiter=\",\")\n",
    "    \n",
    "    filename = path.join(rootdir,d,\"Tdnn_predictions.csv\")\n",
    "    tdnn_preds = np.genfromtxt(filename,delimiter=\",\")\n",
    "    filename = path.join(rootdir,d,\"BiGru_predictions.csv\")\n",
    "    bigru_preds = np.genfromtxt(filename,delimiter=\",\")\n",
    "\n",
    "    print ('\\n=====DATASET {} ==============='.format(d))\n",
    "    print('\\n======= P-value from binary predictions  =======\\n')\n",
    "    #t-test\n",
    "    res = stats.ttest_ind(bin_tdnn_preds,bin_bigru_preds)\n",
    "    print(res,'\\n')\n",
    "\n",
    "\n",
    "    print('======= P-value from predictions for  =======\\n')\n",
    "    #t-test\n",
    "    res = stats.ttest_ind(tdnn_preds,bigru_preds)\n",
    "    print(res,'\\n')\n",
    "\n",
    "  \n",
    "    "
   ]
  },
  {
   "cell_type": "code",
   "execution_count": null,
   "metadata": {},
   "outputs": [],
   "source": []
  },
  {
   "cell_type": "code",
   "execution_count": null,
   "metadata": {},
   "outputs": [],
   "source": []
  }
 ],
 "metadata": {
  "kernelspec": {
   "display_name": "Python 3",
   "language": "python",
   "name": "python3"
  },
  "language_info": {
   "codemirror_mode": {
    "name": "ipython",
    "version": 3
   },
   "file_extension": ".py",
   "mimetype": "text/x-python",
   "name": "python",
   "nbconvert_exporter": "python",
   "pygments_lexer": "ipython3",
   "version": "3.7.7"
  }
 },
 "nbformat": 4,
 "nbformat_minor": 4
}
